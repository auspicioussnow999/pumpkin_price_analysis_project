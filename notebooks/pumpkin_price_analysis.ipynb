# 文件名: notebooks/pumpkin_price_analysis.ipynb
# 这是一个Jupyter Notebook文件的结构示例

{
 "cells": [
  {
   "cell_type": "markdown",
   "metadata": {},
   "source": [
    "# 南瓜价格分析 Notebook\n",
    "## 数据探索与建模"
   ]
  },
  {
   "cell_type": "code",
   "execution_count": null,
   "metadata": {},
   "outputs": [],
   "source": [
    "# 导入必要的库\n",
    "import pandas as pd\n",
    "import numpy as np\n",
    "import matplotlib.pyplot as plt\n",
    "import seaborn as sns\n",
    "from sklearn.model_selection import train_test_split\n",
    "from sklearn.ensemble import RandomForestRegressor\n",
    "from sklearn.metrics import mean_squared_error, r2_score\n",
    "\n",
    "# 设置图表样式\n",
    "sns.set_style(\"whitegrid\")\n",
    "plt.rcParams['figure.figsize'] = (12, 6)"
   ]
  },
  {
   "cell_type": "code",
   "execution_count": null,
   "metadata": {},
   "outputs": [],
   "source": [
    "# 加载处理后的数据\n",
    "df = pd.read_csv(\"../data/processed_data.csv\")\n",
    "print(f\"数据集形状: {df.shape}\")\n",
    "df.head()"
   ]
  },
  {
   "cell_type": "markdown",
   "metadata": {},
   "source": [
    "## 数据探索"
   ]
  },
  {
   "cell_type": "code",
   "execution_count": null,
   "metadata": {},
   "outputs": [],
   "source": [
    "# 价格分布\n",
    "plt.figure(figsize=(10, 6))\n",
    "sns.histplot(df['Avg Price'], bins=30, kde=True)\n",
    "plt.title('南瓜平均价格分布')\n",
    "plt.xlabel('平均价格')\n",
    "plt.ylabel('频率')\n",
    "plt.show()"
   ]
  },
  {
   "cell_type": "code",
   "execution_count": null,
   "metadata": {},
   "outputs": [],
   "source": [
    "# 按城市分析\n",
    "city_avg = df.groupby('City')['Avg Price'].mean().sort_values(ascending=False)\n",
    "\n",
    "plt.figure(figsize=(12, 8))\n",
    "sns.barplot(x=city_avg.values, y=city_avg.index, palette='viridis')\n",
    "plt.title('各城市南瓜平均价格')\n",
    "plt.xlabel('平均价格')\n",
    "plt.ylabel('城市')\n",
    "plt.tight_layout()\n",
    "plt.show()"
   ]
  },
  {
   "cell_type": "code",
   "execution_count": null,
   "metadata": {},
   "outputs": [],
   "source": [
    "# 时间序列分析\n",
    "df['Date'] = pd.to_datetime(df['Date'])\n",
    "monthly_avg = df.set_index('Date').resample('M')['Avg Price'].mean()\n",
    "\n",
    "plt.figure(figsize=(14, 7))\n",
    "monthly_avg.plot(marker='o')\n",
    "plt.title('月度平均南瓜价格趋势')\n",
    "plt.ylabel('平均价格')\n",
    "plt.xlabel('日期')\n",
    "plt.grid(True)\n",
    "plt.show()"
   ]
  },
  {
   "cell_type": "markdown",
   "metadata": {},
   "source": [
    "## 机器学习模型 - 价格预测"
   ]
  },
  {
   "cell_type": "code",
   "execution_count": null,
   "metadata": {},
   "outputs": [],
   "source": [
    "# 数据预处理\n",
    "from sklearn.preprocessing import LabelEncoder\n",
    "\n",
    "# 创建月份特征\n",
    "df['Month'] = df['Date'].dt.month\n",
    "\n",
    "# 编码分类变量\n",
    "le_city = LabelEncoder()\n",
    "le_type = LabelEncoder()\n",
    "\n",
    "df['City_encoded'] = le_city.fit_transform(df['City'])\n",
    "df['Type_encoded'] = le_type.fit_transform(df['Type'])\n",
    "\n",
    "# 准备特征和目标变量\n",
    "X = df[['City_encoded', 'Type_encoded', 'Month']]\n",
    "y = df['Avg Price']\n",
    "\n",
    "# 分割数据集\n",
    "X_train, X_test, y_train, y_test = train_test_split(X, y, test_size=0.2, random_state=42)"
   ]
  },
  {
   "cell_type": "code",
   "execution_count": null,
   "metadata": {},
   "outputs": [],
   "source": [
    "# 训练随机森林模型\n",
    "model = RandomForestRegressor(n_estimators=100, random_state=42)\n",
    "model.fit(X_train, y_train)\n",
    "\n",
    "# 评估模型\n",
    "y_pred = model.predict(X_test)\n",
    "mse = mean_squared_error(y_test, y_pred)\n",
    "r2 = r2_score(y_test, y_pred)\n",
    "\n",
    "print(f\"模型评估:\")\n",
    "print(f\"均方误差(MSE): {mse:.2f}\")\n",
    "print(f\"R²分数: {r2:.4f}\")\n",
    "\n",
    "# 特征重要性\n",
    "feature_importances = pd.Series(model.feature_importances_, index=X.columns)\n",
    "feature_importances.sort_values(ascending=False).plot(kind='bar')\n",
    "plt.title('特征重要性')\n",
    "plt.ylabel('重要性分数')\n",
    "plt.show()"
   ]
  },
  {
   "cell_type": "code",
   "execution_count": null,
   "metadata": {},
   "outputs": [],
   "source": [
    "# 预测示例\n",
    "sample_data = pd.DataFrame({\n",
    "    'City_encoded': [le_city.transform(['BALTIMORE'])[0]],\n",
    "    'Type_encoded': [le_type.transform(['HOWDEN TYPE'])[0]],\n",
    "    'Month': [10]  # 10月\n",
    "})\n",
    "\n",
    "predicted_price = model.predict(sample_data)\n",
    "print(f\"预测价格: ${predicted_price[0]:.2f}\")"
   ]
  },
  {
   "cell_type": "markdown",
   "metadata": {},
   "source": [
    "## 结论与下一步工作\n",
    "- 南瓜价格受季节、城市和品种显著影响\n",
    "- 随机森林模型在预测价格方面表现良好\n",
    "- 未来可探索更多特征（如天气数据、经济指标）\n",
    "- 尝试更复杂的模型（如XGBoost、神经网络）"
   ]
  }
 ],
 "metadata": {
  "kernelspec": {
   "display_name": "Python 3",
   "language": "python",
   "name": "python3"
  },
  "language_info": {
   "codemirror_mode": {
    "name": "ipython",
    "version": 3
   },
   "file_extension": ".py",
   "mimetype": "text/x-python",
   "name": "python",
   "nbconvert_exporter": "python",
   "pygments_lexer": "ipython3",
   "version": "3.10.11"
  }
 },
 "nbformat": 4,
 "nbformat_minor": 4
}